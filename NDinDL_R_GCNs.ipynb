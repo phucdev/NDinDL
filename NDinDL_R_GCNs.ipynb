{
 "cells": [
  {
   "cell_type": "markdown",
   "metadata": {
    "id": "asMhF2nA-FeE"
   },
   "source": [
    "# New Developments in Deep Learning: Isotropic Graph Neural Networks\n",
    "*Phuc Tran Truong (558919), Maike Basmer (576844)*\n"
   ]
  },
  {
   "cell_type": "markdown",
   "metadata": {
    "id": "_vdlSZA1hCwX"
   },
   "source": [
    "## Introduction\n",
    "Graphs are used to model and analyze a variety of phenomena – be it social networks, protein-protein interactions or citation networks. These are rather irregular in comparison to regular structures like sequences or grids, which can be represented as a graph as well. Popular Machine Learning models have been tailored to these regular forms of graphs, specifically Recurrent Neural Networks (RNNs) (Rumelhart et al., 1986a) for sequences (e.g. sentences, time series) and Convolutional Neural Networks (CNNs) (LeCun, 1989) for grids (e.g. images). To be able to deal with general graphs however, Graph Neural Networks (GNNs) were devised (Hamilton, 2020, p. 47-48). GNNs base upon a differentiable message passing scheme, i.e. vector messages are passed between nodes and updated using neural networks (Hamilton, 2020, p. 48). In this project, the focus is on Graph Convolutional Networks (GCNs) (Kipf & Welling, 2016), but before going into detail, we will first define some important terms and illustrate potential use cases as well as previous approaches."
   ]
  },
  {
   "cell_type": "markdown",
   "metadata": {
    "id": "hGpkVS2Yg1f1"
   },
   "source": [
    "## Background \n",
    "\n",
    "A graph is commonly defined as a tuple $G = (V, E)$ where $V$ denotes the set of vertices and $E \\subseteq V \\times V$ is the set of edges between vertices. The edge relation is typically represented as an adjacency matrix $M$ where $M_{i,j} = 1$ iff $(i,j) \\in E$. One or more features may be assigned to the vertices and/or edges in a graph. Nodes may further be encoded in the form of embeddings, i.e., as \"low-dimensional vectors that summarize their graph position and the structure in their local neighborhood\" (Hamilton, 2020, p. 29). Hence, node features describe the properties of the respective node in the given graph, thus are given explicitly, whereas a node embedding represents a node in a latent space.\n",
    "\n",
    "Common tasks related to graphs are node classification, link prediction, graph classification and community detection (Hamilton, 2020, p. 4-8). In this seminar project, we will focus on node classification using Relational Graph Convolutional Networks (R-GCN). Node classification refers to predicting the labels for a set of unlabelled nodes in a graph, given a (usually rather small) set of labelled nodes of the same graph (Hamilton, 2020, p.5). \\\\\n",
    "Originally, this was achieved by assigning some kind of node-level statistics like the node degree to each node and using these as input features to a standard machine learning classifier (Hamilton, 2020, p. 9-13). Another approach consists in *encoding* nodes as so-classed shallow embeddings, which are computed for each node uniquely, and then reconstructing graph characteristics, like an edge between two nodes, from these embeddings (corresponding to a *decoding* step, e.g. based on random walks)  (Hamilton, 2020, p. 29-35). \\\\\n",
    "However, shallow embeddings have some major shortcomings  (Hamilton, 2020, p. 36-37): they do not allow for parameter sharing, which would improve the computational efficiency and constitute a form of regularization. They further do not incorporate the graph structure or feature information, which could improve the quality of the embeddings. Lastly, they cannot generalize to nodes unseen during the training. Graph Neural Networks (GNNs) tackle these deficiencies, and thus enable the computation of more sophisticated embeddings that can be used to classify nodes or predict links (Hamilton, 2020, p. 37). In the following, we are going to elaborate on (Relational) Graph Convolutional Networks in order to understand their applicability to the problem of node classification."
   ]
  },
  {
   "cell_type": "markdown",
   "metadata": {
    "id": "kjUvmMo8goPv"
   },
   "source": [
    "## Graph Convolutional Networks (GCNs)\n",
    "Kipf & Welling (2016) proposed Graph Convolutional Networks (GCNs) that make use of a first-order approximation of spectral graph convolutions. In essence, that corresponds to the aforementioned message passing mechanism enhanced with symmetric normalization, i.e. the representation of a node $i$ is computed by aggregating and normalizing the information held by its neighbors $N_i$ and combining the result with $i$'s previous representation. Accordingly, a GCN layer consists of normalized message passing operations, followed by a non-linear activation. This idea is condensed in the following formula which represents the update of node $i$ in layer $l+1$:\n",
    "> $h_i^{l+1} = \\sigma\\left(\\sum_{j\\in N_i}{c_{i,j}}W_i^{(l)^T}h_j^{(l)}+\\underbrace{W_0^{(l)^T}h_i^{(l)}}_{\\text{self-connection}}\\right)$\n",
    "\n",
    "In detail, a hidden state $h_i^{l+1}$ of a node $i$ in layer $l+1$ is computed by\n",
    "- (a)\tAggregating the hidden states $h_j$ of the neighbouring nodes $j \\in N_i$ by summing up the products of each hidden state $h_j$ with\n",
    "  - a learnable $d_l \\times d_{l+1}$ parameter matrix $W_1^{(l)}$ and\n",
    "  - normalization constant $c_{i,j}=\\frac{1}{\\sqrt{D_{i,i}D_{j,j}}}$ where $D_{i,i}$ is the node degree of node $i$. The normalization constant is particularly important, since it reduces the impact of high node degrees.\n",
    "- (b)\tApplying another $d_l \\times d_{l+1}$ parameter matrix $W_0^{(l)}$ to the hidden state $h_i$ of node $i$ in layer $l$ (which corresponds to adding a self-loop) and adding that to the overall aggregated value \n",
    "- (c)\tApplying an element-wise non-linear activation function $\\sigma$ like ReLu to the overall result\n",
    "- (d)\tAssigning the result to node $h_i$ as its hidden state in layer $l+1$\n",
    "\n",
    "To construct a $n$-layer GCN, these steps are repeated $n$ times for each node in parallel by using the output of the $i$-th layer as the input of the $i+1$-th layer. The original node features serve as input to the first layer, and the output of the last layer is simultaneously the output of the overall GCN. Stacking the layers in that way captures dependencies across several relational steps, i.e. after k layers, a node embedding incorporates information, both structural and feature-based, of its k-hop neighbourhood (Hamilton, 2020). These so-called vanilla GCNs are an example of *Isotropic* Graph Neural Networks, i.e. when calculating the hidden state for each node, each of its neighbors is included with equal weight (Dwivedi et al., 2020)."
   ]
  },
  {
   "cell_type": "markdown",
   "metadata": {
    "id": "u_PC93Azgonv"
   },
   "source": [
    "## Relational Graph Convolutional Networks (R-GCNs)\n",
    "In this seminar, we employed an advancement of GCNs, namely Relational GCNs (R-GCNs) that was proposed by Schlichtkrull et al. (2018). R-GCNs support multi-relational data, i.e. graphs with a type assigned to each edge. A common example of such data are knowledge graphs (like DBPedia or Wikidata), which may be conceived as a collection of triples *(subject, predicate, object)*. Subject and object correspond to typed entities and the predicate denotes the relation type. A proper representation of knowledge graphs are directed, labeled multigraphs with entities as nodes and triples determining the edge relation.\\\n",
    "To support this kind of data, the previously presented computation of a layer is enhanced by using a separate weight matrix $W_r^{(l)}$ for each relation type $r \\in R$. Broadly speaking, the hidden states of neighbouring nodes are separately transformed for each relation type and direction of an edge. The node in question is also transformed separately (corresponding to a self-loop). These transformations are then aggregated in a normalized manner and passed through an activation function. This computation is individually performed for each node in the graph. The following formula comprises the node update for a node $i$ in layer $l+1$:\n",
    "\n",
    "> $h_i^{l+1} = \\sigma\\left(\\sum_{r\\in R}\\sum_{j\\in N^r_i}\\frac{1}{c_{i,r}}W_r^{(l)}h_j^{(l)}+\\underbrace{W_0^{(l)}h_i^{(l)}}_{\\text{self-connection}}\\right)$\n",
    "\n",
    "where \n",
    "- $N^r_i$ denotes the set of neighbors of node $i$ specific to the relation $r \\in R$ \n",
    "- $c_{i,r}$ is a normalization constant that can either be learned or set by hand (e.g. $c_{i,r} = |N_i^r|$)."
   ]
  },
  {
   "cell_type": "markdown",
   "metadata": {
    "id": "VXQoDKo6LEex"
   },
   "source": [
    "#### Regularization\n",
    "In the corresponding work, Schlichtkrull et al. (2018) further present regularization techniques in the form of basis decomposition and block-diagonal decomposition. Regularization of the weights in R-GCN layers is needed due to the increasing number of parameters with the number of relations in the graph which could lead to overfitting and large models. For that reason, Schlichtkrull et al. leveraged basis decomposition of the relation-specific weight matrices as follows:\n",
    "\n",
    "> $W_r^{(l)} = \\sum^B_{b=1}a^{(l)}_{r,b}V_b^{(l)}$\n",
    "\n",
    "The relation-specific matrices are thus represented as linear combinations of basis transformations $V_b^{(l)} \\in \\mathbb{R}^{d^{(l+1)}\\times d^{(l)}}$ with learnable coefficients $a^{(l)}_{r,b}$ such that only the coefficients have to be adapted for each $r \\in R$ and not the complete weight matrix as previously . $B$, the number of basis functions, is a hyperparameter. The basis decomposition acts as a weight sharing mechanism between different relation types, such that the number of parameters that need to be learned is reduced. Schlichtkrull et al. further assume that basis decomposition can avert the risk of overfitting on rare relations due to the parameter sharing between rare and frequent relations. In addition to that, Schlichtkrull et al. also suggest employing block-diagonal decomposition. That means, the weight matrix $W_r^{(l)}$ is represented as a block-diagonal matrix: \n",
    "\n",
    "> $W_r^{(l)} = \\bigoplus_{b=1}^{B}Q_{br}^{(l)}$\n",
    "\n",
    "where $\\bigoplus$ denotes the direct sum of matrices and $Q_{br}^{(l)} \\in \\mathbb{R}^{(d^{(l+1)}/B)\\times (d^{(l)}/B)}$. Besides also reducing the number of parameters needed, this regularization mechanism forces each weight matrix $W_r^{(l)}$ to be sparse to some extent and intuitively groups related latent features (Schlichtkrull, 2018)."
   ]
  },
  {
   "cell_type": "markdown",
   "metadata": {
    "id": "kUUBcu1Ng3N3"
   },
   "source": [
    "### Entity Classification with R-GCNs\n",
    "\n",
    "In order to perform entity classification, softmax classifiers are applied to the output of the R-GCN, i.e., to the final embedding of each node. That way, labels are predicted. During the training of the model, the cross-entropy loss $L$ is minimized on the set of *labelled* nodes as follows:\n",
    "> $L = -\\sum_{i\\in Y}\\sum^K_{k=1}t_{i,k}\\ln h_{i,k}^{(l)}$\n",
    "\n",
    "where:\n",
    "- $Y$ is the set of node indices with labels\n",
    "- $K$ is the number of classes\n",
    "- $t_{i,k}$ is the ground-truth label\n",
    "- $h_{i,k}^{(l)}$ is the $k$-th entry of network ouput for $i$-th labeled node\n",
    "\n",
    "In practice, the training is realized by use of (full-batch) gradient descent (Schlichtkrull, 2018).\n"
   ]
  },
  {
   "cell_type": "markdown",
   "metadata": {
    "id": "FRIGn4OrF22_"
   },
   "source": [
    "## Implementation\n",
    "Next, we will walk you through our implementation which encompasses the preparatory setup as well as the implementation of the R-GCN.\n",
    "Github repository: https://github.com/phucdev/NDinDL"
   ]
  },
  {
   "cell_type": "markdown",
   "metadata": {
    "id": "m6xvA9IakmXy"
   },
   "source": [
    "### Prepare the colab environment\n",
    "We need to check the python and cuda version in the colab environment and adjust the installation of the requirements accordingly."
   ]
  },
  {
   "cell_type": "code",
   "execution_count": null,
   "metadata": {
    "colab": {
     "base_uri": "https://localhost:8080/"
    },
    "id": "yq-RCHUaiXtZ",
    "outputId": "e471a9af-f862-4ee6-e779-28763940d689"
   },
   "outputs": [
    {
     "name": "stdout",
     "output_type": "stream",
     "text": [
      "Python 3.7.10\n"
     ]
    }
   ],
   "source": [
    "!python --version"
   ]
  },
  {
   "cell_type": "code",
   "execution_count": null,
   "metadata": {
    "colab": {
     "base_uri": "https://localhost:8080/"
    },
    "id": "BKeC6THaib52",
    "outputId": "113c0dcb-d841-4efd-adbb-ca0a7132a3a7"
   },
   "outputs": [
    {
     "name": "stdout",
     "output_type": "stream",
     "text": [
      "Wed Apr 14 21:14:16 2021       \n",
      "+-----------------------------------------------------------------------------+\n",
      "| NVIDIA-SMI 460.67       Driver Version: 460.32.03    CUDA Version: 11.2     |\n",
      "|-------------------------------+----------------------+----------------------+\n",
      "| GPU  Name        Persistence-M| Bus-Id        Disp.A | Volatile Uncorr. ECC |\n",
      "| Fan  Temp  Perf  Pwr:Usage/Cap|         Memory-Usage | GPU-Util  Compute M. |\n",
      "|                               |                      |               MIG M. |\n",
      "|===============================+======================+======================|\n",
      "|   0  Tesla T4            Off  | 00000000:00:04.0 Off |                    0 |\n",
      "| N/A   66C    P8    11W /  70W |      0MiB / 15109MiB |      0%      Default |\n",
      "|                               |                      |                  N/A |\n",
      "+-------------------------------+----------------------+----------------------+\n",
      "                                                                               \n",
      "+-----------------------------------------------------------------------------+\n",
      "| Processes:                                                                  |\n",
      "|  GPU   GI   CI        PID   Type   Process name                  GPU Memory |\n",
      "|        ID   ID                                                   Usage      |\n",
      "|=============================================================================|\n",
      "|  No running processes found                                                 |\n",
      "+-----------------------------------------------------------------------------+\n"
     ]
    }
   ],
   "source": [
    "!nvidia-smi"
   ]
  },
  {
   "cell_type": "markdown",
   "metadata": {
    "id": "hj50NDlxFZdW"
   },
   "source": [
    "### Installing requirements"
   ]
  },
  {
   "cell_type": "code",
   "execution_count": null,
   "metadata": {
    "colab": {
     "base_uri": "https://localhost:8080/"
    },
    "id": "gt6GYiHfEXfq",
    "outputId": "1e8edc5c-5cf2-4ce3-df28-9907e3bd49bd"
   },
   "outputs": [
    {
     "name": "stdout",
     "output_type": "stream",
     "text": [
      "Looking in links: https://download.pytorch.org/whl/torch_stable.html\n",
      "Collecting torch==1.8.1+cu111\n",
      "\u001b[?25l  Downloading https://download.pytorch.org/whl/cu111/torch-1.8.1%2Bcu111-cp37-cp37m-linux_x86_64.whl (1982.2MB)\n",
      "\u001b[K     |█████████████▌                  | 834.1MB 1.3MB/s eta 0:14:18tcmalloc: large alloc 1147494400 bytes == 0x55dc67ce2000 @  0x7f68d0f0d615 0x55dc2e3bb06c 0x55dc2e49aeba 0x55dc2e3bde8d 0x55dc2e4af99d 0x55dc2e431fe9 0x55dc2e42cb0e 0x55dc2e3bf77a 0x55dc2e431e50 0x55dc2e42cb0e 0x55dc2e3bf77a 0x55dc2e42e86a 0x55dc2e4b07c6 0x55dc2e42dee2 0x55dc2e4b07c6 0x55dc2e42dee2 0x55dc2e4b07c6 0x55dc2e42dee2 0x55dc2e4b07c6 0x55dc2e532431 0x55dc2e493049 0x55dc2e3fdc84 0x55dc2e3be8e9 0x55dc2e432ade 0x55dc2e3bf69a 0x55dc2e42da45 0x55dc2e42ce0d 0x55dc2e3bf77a 0x55dc2e42da45 0x55dc2e3bf69a 0x55dc2e42da45\n",
      "\u001b[K     |█████████████████               | 1055.7MB 1.2MB/s eta 0:12:26tcmalloc: large alloc 1434370048 bytes == 0x55dcac338000 @  0x7f68d0f0d615 0x55dc2e3bb06c 0x55dc2e49aeba 0x55dc2e3bde8d 0x55dc2e4af99d 0x55dc2e431fe9 0x55dc2e42cb0e 0x55dc2e3bf77a 0x55dc2e431e50 0x55dc2e42cb0e 0x55dc2e3bf77a 0x55dc2e42e86a 0x55dc2e4b07c6 0x55dc2e42dee2 0x55dc2e4b07c6 0x55dc2e42dee2 0x55dc2e4b07c6 0x55dc2e42dee2 0x55dc2e4b07c6 0x55dc2e532431 0x55dc2e493049 0x55dc2e3fdc84 0x55dc2e3be8e9 0x55dc2e432ade 0x55dc2e3bf69a 0x55dc2e42da45 0x55dc2e42ce0d 0x55dc2e3bf77a 0x55dc2e42da45 0x55dc2e3bf69a 0x55dc2e42da45\n",
      "\u001b[K     |█████████████████████▋          | 1336.2MB 1.3MB/s eta 0:08:26tcmalloc: large alloc 1792966656 bytes == 0x55dc3116a000 @  0x7f68d0f0d615 0x55dc2e3bb06c 0x55dc2e49aeba 0x55dc2e3bde8d 0x55dc2e4af99d 0x55dc2e431fe9 0x55dc2e42cb0e 0x55dc2e3bf77a 0x55dc2e431e50 0x55dc2e42cb0e 0x55dc2e3bf77a 0x55dc2e42e86a 0x55dc2e4b07c6 0x55dc2e42dee2 0x55dc2e4b07c6 0x55dc2e42dee2 0x55dc2e4b07c6 0x55dc2e42dee2 0x55dc2e4b07c6 0x55dc2e532431 0x55dc2e493049 0x55dc2e3fdc84 0x55dc2e3be8e9 0x55dc2e432ade 0x55dc2e3bf69a 0x55dc2e42da45 0x55dc2e42ce0d 0x55dc2e3bf77a 0x55dc2e42da45 0x55dc2e3bf69a 0x55dc2e42da45\n",
      "\u001b[K     |███████████████████████████▎    | 1691.1MB 1.3MB/s eta 0:03:38tcmalloc: large alloc 2241208320 bytes == 0x55dc9bf52000 @  0x7f68d0f0d615 0x55dc2e3bb06c 0x55dc2e49aeba 0x55dc2e3bde8d 0x55dc2e4af99d 0x55dc2e431fe9 0x55dc2e42cb0e 0x55dc2e3bf77a 0x55dc2e431e50 0x55dc2e42cb0e 0x55dc2e3bf77a 0x55dc2e42e86a 0x55dc2e4b07c6 0x55dc2e42dee2 0x55dc2e4b07c6 0x55dc2e42dee2 0x55dc2e4b07c6 0x55dc2e42dee2 0x55dc2e4b07c6 0x55dc2e532431 0x55dc2e493049 0x55dc2e3fdc84 0x55dc2e3be8e9 0x55dc2e432ade 0x55dc2e3bf69a 0x55dc2e42da45 0x55dc2e42ce0d 0x55dc2e3bf77a 0x55dc2e42da45 0x55dc2e3bf69a 0x55dc2e42da45\n",
      "\u001b[K     |████████████████████████████████| 1982.2MB 1.1MB/s eta 0:00:01tcmalloc: large alloc 1982177280 bytes == 0x55dd218b4000 @  0x7f68d0f0c1e7 0x55dc2e3f1017 0x55dc2e3bb06c 0x55dc2e49aeba 0x55dc2e3bde8d 0x55dc2e4af99d 0x55dc2e431fe9 0x55dc2e42cb0e 0x55dc2e3bf77a 0x55dc2e42dc9e 0x55dc2e42cb0e 0x55dc2e3bf77a 0x55dc2e42dc9e 0x55dc2e42cb0e 0x55dc2e3bf77a 0x55dc2e42dc9e 0x55dc2e42cb0e 0x55dc2e3bf77a 0x55dc2e42dc9e 0x55dc2e42cb0e 0x55dc2e3bf77a 0x55dc2e42dc9e 0x55dc2e3bf69a 0x55dc2e42dc9e 0x55dc2e42cb0e 0x55dc2e3bf77a 0x55dc2e42e86a 0x55dc2e42cb0e 0x55dc2e3bf77a 0x55dc2e42e86a 0x55dc2e42cb0e\n",
      "tcmalloc: large alloc 2477727744 bytes == 0x55dd97b0e000 @  0x7f68d0f0d615 0x55dc2e3bb06c 0x55dc2e49aeba 0x55dc2e3bde8d 0x55dc2e4af99d 0x55dc2e431fe9 0x55dc2e42cb0e 0x55dc2e3bf77a 0x55dc2e42dc9e 0x55dc2e42cb0e 0x55dc2e3bf77a 0x55dc2e42dc9e 0x55dc2e42cb0e 0x55dc2e3bf77a 0x55dc2e42dc9e 0x55dc2e42cb0e 0x55dc2e3bf77a 0x55dc2e42dc9e 0x55dc2e42cb0e 0x55dc2e3bf77a 0x55dc2e42dc9e 0x55dc2e3bf69a 0x55dc2e42dc9e 0x55dc2e42cb0e 0x55dc2e3bf77a 0x55dc2e42e86a 0x55dc2e42cb0e 0x55dc2e3bf77a 0x55dc2e42e86a 0x55dc2e42cb0e 0x55dc2e3bfe11\n",
      "\u001b[K     |████████████████████████████████| 1982.2MB 3.9kB/s \n",
      "\u001b[?25hCollecting torchvision==0.9.1+cu111\n",
      "\u001b[?25l  Downloading https://download.pytorch.org/whl/cu111/torchvision-0.9.1%2Bcu111-cp37-cp37m-linux_x86_64.whl (17.6MB)\n",
      "\u001b[K     |████████████████████████████████| 17.6MB 197kB/s \n",
      "\u001b[?25hCollecting torchaudio==0.8.1\n",
      "\u001b[?25l  Downloading https://files.pythonhosted.org/packages/aa/55/01ad9244bcd595e39cea5ce30726a7fe02fd963d07daeb136bfe7e23f0a5/torchaudio-0.8.1-cp37-cp37m-manylinux1_x86_64.whl (1.9MB)\n",
      "\u001b[K     |████████████████████████████████| 1.9MB 7.7MB/s \n",
      "\u001b[?25hRequirement already satisfied: numpy in /usr/local/lib/python3.7/dist-packages (from torch==1.8.1+cu111) (1.19.5)\n",
      "Requirement already satisfied: typing-extensions in /usr/local/lib/python3.7/dist-packages (from torch==1.8.1+cu111) (3.7.4.3)\n",
      "Requirement already satisfied: pillow>=4.1.1 in /usr/local/lib/python3.7/dist-packages (from torchvision==0.9.1+cu111) (7.1.2)\n",
      "Installing collected packages: torch, torchvision, torchaudio\n",
      "  Found existing installation: torch 1.8.1+cu101\n",
      "    Uninstalling torch-1.8.1+cu101:\n",
      "      Successfully uninstalled torch-1.8.1+cu101\n",
      "  Found existing installation: torchvision 0.9.1+cu101\n",
      "    Uninstalling torchvision-0.9.1+cu101:\n",
      "      Successfully uninstalled torchvision-0.9.1+cu101\n",
      "Successfully installed torch-1.8.1+cu111 torchaudio-0.8.1 torchvision-0.9.1+cu111\n",
      "Looking in links: https://pytorch-geometric.com/whl/torch-1.8.0+cu111.html\n",
      "Collecting torch-scatter\n",
      "\u001b[?25l  Downloading https://pytorch-geometric.com/whl/torch-1.8.0%2Bcu111/torch_scatter-2.0.6-cp37-cp37m-linux_x86_64.whl (2.9MB)\n",
      "\u001b[K     |████████████████████████████████| 2.9MB 6.8MB/s \n",
      "\u001b[?25hInstalling collected packages: torch-scatter\n",
      "Successfully installed torch-scatter-2.0.6\n",
      "Looking in links: https://pytorch-geometric.com/whl/torch-1.8.0+cu111.html\n",
      "Collecting torch-sparse\n",
      "\u001b[?25l  Downloading https://pytorch-geometric.com/whl/torch-1.8.0%2Bcu111/torch_sparse-0.6.9-cp37-cp37m-linux_x86_64.whl (1.6MB)\n",
      "\u001b[K     |████████████████████████████████| 1.6MB 6.7MB/s \n",
      "\u001b[?25hRequirement already satisfied: scipy in /usr/local/lib/python3.7/dist-packages (from torch-sparse) (1.4.1)\n",
      "Requirement already satisfied: numpy>=1.13.3 in /usr/local/lib/python3.7/dist-packages (from scipy->torch-sparse) (1.19.5)\n",
      "Installing collected packages: torch-sparse\n",
      "Successfully installed torch-sparse-0.6.9\n",
      "Looking in links: https://pytorch-geometric.com/whl/torch-1.8.0+cu111.html\n",
      "Collecting torch-cluster\n",
      "\u001b[?25l  Downloading https://pytorch-geometric.com/whl/torch-1.8.0%2Bcu111/torch_cluster-1.5.9-cp37-cp37m-linux_x86_64.whl (1.1MB)\n",
      "\u001b[K     |████████████████████████████████| 1.1MB 7.7MB/s \n",
      "\u001b[?25hInstalling collected packages: torch-cluster\n",
      "Successfully installed torch-cluster-1.5.9\n",
      "Looking in links: https://pytorch-geometric.com/whl/torch-1.8.0+cu111.html\n",
      "Collecting torch-spline-conv\n",
      "\u001b[?25l  Downloading https://pytorch-geometric.com/whl/torch-1.8.0%2Bcu111/torch_spline_conv-1.2.1-cp37-cp37m-linux_x86_64.whl (422kB)\n",
      "\u001b[K     |████████████████████████████████| 430kB 7.0MB/s \n",
      "\u001b[?25hInstalling collected packages: torch-spline-conv\n",
      "Successfully installed torch-spline-conv-1.2.1\n",
      "Collecting torch-geometric\n",
      "\u001b[?25l  Downloading https://files.pythonhosted.org/packages/d9/99/18781f60303b2f7097a13feed0b51e531364251f441bd83e38fac09944bd/torch_geometric-1.7.0.tar.gz (212kB)\n",
      "\u001b[K     |████████████████████████████████| 215kB 8.4MB/s \n",
      "\u001b[?25hRequirement already satisfied: numpy in /usr/local/lib/python3.7/dist-packages (from torch-geometric) (1.19.5)\n",
      "Requirement already satisfied: tqdm in /usr/local/lib/python3.7/dist-packages (from torch-geometric) (4.41.1)\n",
      "Requirement already satisfied: scipy in /usr/local/lib/python3.7/dist-packages (from torch-geometric) (1.4.1)\n",
      "Requirement already satisfied: networkx in /usr/local/lib/python3.7/dist-packages (from torch-geometric) (2.5.1)\n",
      "Requirement already satisfied: python-louvain in /usr/local/lib/python3.7/dist-packages (from torch-geometric) (0.15)\n",
      "Requirement already satisfied: scikit-learn in /usr/local/lib/python3.7/dist-packages (from torch-geometric) (0.22.2.post1)\n",
      "Requirement already satisfied: numba in /usr/local/lib/python3.7/dist-packages (from torch-geometric) (0.51.2)\n",
      "Requirement already satisfied: requests in /usr/local/lib/python3.7/dist-packages (from torch-geometric) (2.23.0)\n",
      "Requirement already satisfied: pandas in /usr/local/lib/python3.7/dist-packages (from torch-geometric) (1.1.5)\n",
      "Collecting rdflib\n",
      "\u001b[?25l  Downloading https://files.pythonhosted.org/packages/d0/6b/6454aa1db753c0f8bc265a5bd5c10b5721a4bb24160fb4faf758cf6be8a1/rdflib-5.0.0-py3-none-any.whl (231kB)\n",
      "\u001b[K     |████████████████████████████████| 235kB 14.4MB/s \n",
      "\u001b[?25hRequirement already satisfied: h5py in /usr/local/lib/python3.7/dist-packages (from torch-geometric) (2.10.0)\n",
      "Requirement already satisfied: googledrivedownloader in /usr/local/lib/python3.7/dist-packages (from torch-geometric) (0.4)\n",
      "Collecting ase\n",
      "\u001b[?25l  Downloading https://files.pythonhosted.org/packages/a5/36/de17e79f29e06d9a92746d0dd9ec4636487ab03f6af10e78586aae533f7a/ase-3.21.1-py3-none-any.whl (2.2MB)\n",
      "\u001b[K     |████████████████████████████████| 2.2MB 16.2MB/s \n",
      "\u001b[?25hRequirement already satisfied: jinja2 in /usr/local/lib/python3.7/dist-packages (from torch-geometric) (2.11.3)\n",
      "Requirement already satisfied: decorator<5,>=4.3 in /usr/local/lib/python3.7/dist-packages (from networkx->torch-geometric) (4.4.2)\n",
      "Requirement already satisfied: joblib>=0.11 in /usr/local/lib/python3.7/dist-packages (from scikit-learn->torch-geometric) (1.0.1)\n",
      "Requirement already satisfied: llvmlite<0.35,>=0.34.0.dev0 in /usr/local/lib/python3.7/dist-packages (from numba->torch-geometric) (0.34.0)\n",
      "Requirement already satisfied: setuptools in /usr/local/lib/python3.7/dist-packages (from numba->torch-geometric) (54.2.0)\n",
      "Requirement already satisfied: certifi>=2017.4.17 in /usr/local/lib/python3.7/dist-packages (from requests->torch-geometric) (2020.12.5)\n",
      "Requirement already satisfied: urllib3!=1.25.0,!=1.25.1,<1.26,>=1.21.1 in /usr/local/lib/python3.7/dist-packages (from requests->torch-geometric) (1.24.3)\n",
      "Requirement already satisfied: idna<3,>=2.5 in /usr/local/lib/python3.7/dist-packages (from requests->torch-geometric) (2.10)\n",
      "Requirement already satisfied: chardet<4,>=3.0.2 in /usr/local/lib/python3.7/dist-packages (from requests->torch-geometric) (3.0.4)\n",
      "Requirement already satisfied: pytz>=2017.2 in /usr/local/lib/python3.7/dist-packages (from pandas->torch-geometric) (2018.9)\n",
      "Requirement already satisfied: python-dateutil>=2.7.3 in /usr/local/lib/python3.7/dist-packages (from pandas->torch-geometric) (2.8.1)\n",
      "Collecting isodate\n",
      "\u001b[?25l  Downloading https://files.pythonhosted.org/packages/9b/9f/b36f7774ff5ea8e428fdcfc4bb332c39ee5b9362ddd3d40d9516a55221b2/isodate-0.6.0-py2.py3-none-any.whl (45kB)\n",
      "\u001b[K     |████████████████████████████████| 51kB 8.5MB/s \n",
      "\u001b[?25hRequirement already satisfied: pyparsing in /usr/local/lib/python3.7/dist-packages (from rdflib->torch-geometric) (2.4.7)\n",
      "Requirement already satisfied: six in /usr/local/lib/python3.7/dist-packages (from rdflib->torch-geometric) (1.15.0)\n",
      "Requirement already satisfied: matplotlib>=2.0.0 in /usr/local/lib/python3.7/dist-packages (from ase->torch-geometric) (3.2.2)\n",
      "Requirement already satisfied: MarkupSafe>=0.23 in /usr/local/lib/python3.7/dist-packages (from jinja2->torch-geometric) (1.1.1)\n",
      "Requirement already satisfied: cycler>=0.10 in /usr/local/lib/python3.7/dist-packages (from matplotlib>=2.0.0->ase->torch-geometric) (0.10.0)\n",
      "Requirement already satisfied: kiwisolver>=1.0.1 in /usr/local/lib/python3.7/dist-packages (from matplotlib>=2.0.0->ase->torch-geometric) (1.3.1)\n",
      "Building wheels for collected packages: torch-geometric\n",
      "  Building wheel for torch-geometric (setup.py) ... \u001b[?25l\u001b[?25hdone\n",
      "  Created wheel for torch-geometric: filename=torch_geometric-1.7.0-cp37-none-any.whl size=365386 sha256=08a1d0937fc5919b245434ce73e71462a6491405c3a2c798751ece4c1b9dcc40\n",
      "  Stored in directory: /root/.cache/pip/wheels/ce/fb/df/37cd43d1433e65b2d3417a71438404d0eeb4fbbfa40730931c\n",
      "Successfully built torch-geometric\n",
      "Installing collected packages: isodate, rdflib, ase, torch-geometric\n",
      "Successfully installed ase-3.21.1 isodate-0.6.0 rdflib-5.0.0 torch-geometric-1.7.0\n"
     ]
    }
   ],
   "source": [
    "# Install required packages.\n",
    "!pip install torch==1.8.1+cu111 torchvision==0.9.1+cu111 torchaudio==0.8.1 -f https://download.pytorch.org/whl/torch_stable.html\n",
    "!pip install torch-scatter -f https://pytorch-geometric.com/whl/torch-1.8.0+cu111.html\n",
    "!pip install torch-sparse -f https://pytorch-geometric.com/whl/torch-1.8.0+cu111.html\n",
    "!pip install torch-cluster -f https://pytorch-geometric.com/whl/torch-1.8.0+cu111.html\n",
    "!pip install torch-spline-conv -f https://pytorch-geometric.com/whl/torch-1.8.0+cu111.html\n",
    "!pip install torch-geometric"
   ]
  },
  {
   "cell_type": "markdown",
   "metadata": {
    "id": "Deoj0QtlHTTI"
   },
   "source": [
    "### Imports\n",
    "We mainly use pytorch geometric to load the datasets, numpy and scipy to process the data and pytorch for the model."
   ]
  },
  {
   "cell_type": "code",
   "execution_count": null,
   "metadata": {
    "id": "Kbz1HvLsHpA4"
   },
   "outputs": [],
   "source": [
    "from torch_geometric.datasets import Entities\n",
    "from torch_geometric.utils.num_nodes import maybe_num_nodes\n",
    "import numpy as np\n",
    "import scipy.sparse as sp\n",
    "from scipy import stats\n",
    "import torch\n",
    "import torch.nn as nn\n",
    "import torch.nn.functional as F\n",
    "from functools import partial\n",
    "import os.path as osp"
   ]
  },
  {
   "cell_type": "markdown",
   "metadata": {
    "id": "_KzEQQhVP2mG"
   },
   "source": [
    "### R-GCN layer\n",
    "This part is inspired by the keras implementation from Thomas Kipf and pytorch based implementations:\n",
    "- https://github.com/tkipf/pygcn\n",
    "- https://github.com/masakicktashiro/rgcn_pytorch_implementation\n",
    "- https://github.com/mjDelta/relation-gcn-pytorch\n",
    "\n",
    "During the initialization of an R-GCN layer, everything is set up for basis decomposition. To achieve quicker convergence and higher accuracy, we employ Xavier initialization to initialize the trainable parameters (Dellinger, 2019). We use the recommmended gain value for the given non-linearity function (here: ReLu), which is an optional scaling factor. We also give the user the opportunity to define a dropout probability, although we do not use it in the experiments. Dropout is yet another regularization technique that essentially refers to randomly dropping units during the training of a neural network (Srivastava, 2014). That way, overfitting can be mitigated."
   ]
  },
  {
   "cell_type": "code",
   "execution_count": null,
   "metadata": {
    "id": "UkXVOtDbPrxq"
   },
   "outputs": [],
   "source": [
    "class RGCNConv(nn.Module):\n",
    "    def __init__(self,\n",
    "                 input_dim,\n",
    "                 output_dim,\n",
    "                 num_rels,\n",
    "                 num_bases=-1,\n",
    "                 bias=False,\n",
    "                 activation=None,\n",
    "                 dropout=0.5,\n",
    "                 is_output_layer=False):\n",
    "        r\"\"\"The relational graph convolutional operator from the `\"Modeling\n",
    "        Relational Data with Graph Convolutional Networks\"\n",
    "        <https://arxiv.org/abs/1703.06103>`_ paper\n",
    "\n",
    "        Propagation model:\n",
    "        (1) $h_i^{l+1} = \\sigma\\left(\\sum_{r\\in R}\\sum_{j\\in N^r_i}\\frac{1}{c_{i,r}}W_r^{(l)}h_j^{(l)}+\n",
    "        \\underbrace{W_0^{(l)}h_i^{(l)}}_{\\text{self-connection}}\\right)$\n",
    "\n",
    "        where\n",
    "        - $N^r_i$ denotes the set of neighbor indices of node $i$ under relation $r \\in R$,\n",
    "        - $c_{i,r}$ is a problem-specific normalization constant that can either be learned or chosen in advance\n",
    "          (such as $c_{i,r} = |N_i^r|$).\n",
    "\n",
    "        Neural network layer update: evaluate message passing update in parallel for every node $i \\in V$.\n",
    "\n",
    "        Parameter sharing for highly- multi-relational data: basis decomposition of relation-specific weight matrices\n",
    "        (2) $W_r^{(l)} = \\sum^B_{b=1}a^{(l)}_{r,b}V_b^{(l)}$\n",
    "\n",
    "        Linear combination of basis transformations $V_b^{(l)} \\in \\mathbb{R}^{d^{(l+1)}\\times d^{(l)}}$ with learnable\n",
    "        coefficients $a^{(l)}_{r,b}$ such that only the coefficients depend on $r$. $B$, the number of basis functions,\n",
    "        is a hyperparameter.\n",
    "\n",
    "        :param input_dim: Input dimension\n",
    "        :param output_dim: Output dimension\n",
    "        :param num_rels: Number of relation types\n",
    "        :param num_bases: Number of bases used in basis decomposition of relation-specific weight matrices\n",
    "        :param bias: Optional additive bias\n",
    "        :param activation: Activation function\n",
    "        :param dropout: Dropout\n",
    "        :param is_output_layer: Indicates whether this layer is the output layer\n",
    "        \"\"\"\n",
    "        super(RGCNConv, self).__init__()\n",
    "        self.input_dim = input_dim\n",
    "        self.output_dim = output_dim\n",
    "        self.num_rels = num_rels\n",
    "        self.num_bases = num_bases\n",
    "        self.bias = bias\n",
    "        self.activation = activation\n",
    "        self.dropout = dropout\n",
    "        self.is_output_layer = is_output_layer\n",
    "\n",
    "        # Number of bases for the basis decomposition can be less or equal to \n",
    "        # the number of relation types\n",
    "        if self.num_bases <= 0 or self.num_bases > self.num_rels:\n",
    "            self.num_bases = self.num_rels\n",
    "\n",
    "        # Weight bases in equation (2)\n",
    "        # V_b if self.num_bases < self.num_rels, \n",
    "        # W_r if self.num_bases == self.num_rels\n",
    "        self.weight = nn.Parameter(\n",
    "            torch.Tensor(self.num_bases * self.input_dim, self.output_dim))\n",
    "\n",
    "        # Use basis decomposition otherwise if num_bases = num_rels we can just \n",
    "        # use one weight matrix per relation type\n",
    "        if self.num_bases < self.num_rels:\n",
    "            # linear combination coefficients a^{(l)}_{r, b} in equation (2)\n",
    "            self.w_comp = nn.Parameter(\n",
    "                torch.Tensor(self.num_rels, self.num_bases))\n",
    "\n",
    "        if self.bias:\n",
    "            self.b = nn.Parameter(torch.Tensor(self.output_dim))\n",
    "        self.reset_parameters()\n",
    "\n",
    "    def reset_parameters(self):\n",
    "        # Initialize trainable parameters, see following link for explanation:\n",
    "        # https://towardsdatascience.com/weight-initialization-in-neural-networks-a-journey-from-the-basics-to-kaiming-954fb9b47c79\n",
    "        # Xavier initialization: improved weight initialization method enabling \n",
    "        # quicker convergence and higher accuracy\n",
    "        # gain is an optional scaling factor, here we use the recommended gain \n",
    "        # value for the given nonlinearity function\n",
    "        nn.init.xavier_uniform_(self.weight, gain=nn.init.calculate_gain('relu'))\n",
    "        if self.num_bases < self.num_rels:\n",
    "            nn.init.xavier_uniform_(self.w_comp, gain=nn.init.calculate_gain('relu'))\n",
    "        if self.bias:\n",
    "            nn.init.xavier_uniform_(self.b, gain=nn.init.calculate_gain('relu'))\n",
    "\n",
    "    def forward(self, x, adj_t):\n",
    "        supports = []   # supports holds hidden states of the nodes\n",
    "        num_nodes = adj_t[0].shape[0]\n",
    "        for i, adj in enumerate(adj_t):\n",
    "            # Matrix multiplication of relation type specific adjacency matrices\n",
    "            # with x, the node embeddings or hidden states of the nodes from the previous layer\n",
    "            if x is not None:\n",
    "                supports.append(torch.spmm(adj, x))\n",
    "            else:\n",
    "                supports.append(adj)\n",
    "        # List of (num_nodes, num_nodes) tensors -> (num_nodes, num_nodes*num_rel)\n",
    "        supports = torch.cat(supports, dim=1)\n",
    "\n",
    "        # Calculate relation specific weight matrices\n",
    "        if self.num_bases < self.num_rels:\n",
    "            # Generate all weights from bases as in equation (2)\n",
    "            weight = self.weight.reshape(self.num_bases, self.input_dim, self.output_dim).permute(1, 0, 2)\n",
    "\n",
    "            # Matrix product: learnable coefficients a_{r, b} and basis transformations V_b\n",
    "            # (self.num_rels, self.num_bases) x (self.input_dim, self.num_bases, self.output_dim)\n",
    "            weight = torch.matmul(self.w_comp, weight)  # (self.input_dim, self.num_rels, self.output_dim)\n",
    "            weight = weight.reshape(self.input_dim * self.num_rels, self.output_dim)\n",
    "        else:\n",
    "            weight = self.weight\n",
    "\n",
    "        out = torch.spmm(supports, weight)  # (num_nodes, num_rels)\n",
    "\n",
    "        # If x is None add dropout to output, by elementwise multiplying with \n",
    "        # column vector of ones, with dropout applied to the vector of ones.\n",
    "        if x is None:\n",
    "            temp = torch.ones(num_nodes).to(out.device)\n",
    "            temp_drop = F.dropout(temp, self.dropout)\n",
    "            out = (out.transpose(1, 0) * temp_drop).transpose(1, 0)\n",
    "\n",
    "        if self.bias:\n",
    "            out += self.b\n",
    "\n",
    "        out = self.activation(out)\n",
    "        return out"
   ]
  },
  {
   "cell_type": "markdown",
   "metadata": {
    "id": "tP2bXQr3NM5t"
   },
   "source": [
    "The `forward` function is basically the place where we define how the output of a layer is computed. First, we compute the relation-specific matrices based on the bases if necessary. Then we compute the product of the tensor representing the relation-specific, normalized adjacency matrices (which may also incorporate the features if any are given) and the weight matrices. Lastly, we also factor the dropout and the bias in, before applying the activation function."
   ]
  },
  {
   "cell_type": "markdown",
   "metadata": {
    "id": "MYxn57MtP6E8"
   },
   "source": [
    "### R-GCN model\n",
    "This part is somewhat inspired by: https://docs.dgl.ai/en/0.4.x/tutorials/models/1_gnn/4_rgcn.html.\n",
    "We borrowed the idea of building the model using separate build functions for the input, hidden and output layer in order to allow building models with multiple hidden layers. That way, we can easily stack the layers (implemented as `RGCNConv`) as it was described in the introductory section."
   ]
  },
  {
   "cell_type": "code",
   "execution_count": null,
   "metadata": {
    "id": "xxNhsYh2P71e"
   },
   "outputs": [],
   "source": [
    "class RGCN(torch.nn.Module):\n",
    "    def __init__(self, num_nodes, h_dim, out_dim, num_rels,\n",
    "                 num_bases=-1, num_hidden_layers=1, dropout=0.5, bias=False):\n",
    "        \"\"\"\n",
    "        Implementation of R-GCN from the `\"Modeling\n",
    "        Relational Data with Graph Convolutional Networks\"\n",
    "        <https://arxiv.org/abs/1703.06103>`_ paper\n",
    "\n",
    "        :param num_nodes: Number of nodes (input dimension)\n",
    "        :param h_dim: Hidden dimension\n",
    "        :param out_dim: Output dimension\n",
    "        :param num_rels: Number of relation types\n",
    "        :param num_bases: Number of basis functions\n",
    "        :param num_hidden_layers: Number of hidden layers\n",
    "        :param dropout: Dropout probability\n",
    "        :param bias: Whether to use an additive bias\n",
    "        \"\"\"\n",
    "        super(RGCN, self).__init__()\n",
    "        self.num_nodes = num_nodes\n",
    "        self.h_dim = h_dim\n",
    "        self.out_dim = out_dim\n",
    "        self.num_rels = num_rels\n",
    "        self.num_bases = num_bases\n",
    "        self.num_hidden_layers = num_hidden_layers\n",
    "        self.dropout = dropout\n",
    "        self.bias = bias\n",
    "\n",
    "        self.layers = nn.ModuleList()\n",
    "        # create rgcn layers\n",
    "        self.build_model()\n",
    "\n",
    "    def build_model(self):\n",
    "        # input to hidden\n",
    "        i2h = self.build_input_layer()\n",
    "        self.layers.append(i2h)\n",
    "        # hidden to hidden\n",
    "        for _ in range(self.num_hidden_layers):\n",
    "            h2h = self.build_hidden_layer()\n",
    "            self.layers.append(h2h)\n",
    "        # hidden to output\n",
    "        h2o = self.build_output_layer()\n",
    "        self.layers.append(h2o)\n",
    "\n",
    "    def build_input_layer(self):\n",
    "        return RGCNConv(self.num_nodes, self.h_dim, self.num_rels, self.num_bases, activation=F.relu,\n",
    "                        dropout=self.dropout, bias=self.bias)\n",
    "\n",
    "    def build_hidden_layer(self):\n",
    "        return RGCNConv(self.h_dim, self.h_dim, self.num_rels, self.num_bases, activation=F.relu,\n",
    "                        dropout=self.dropout, bias=self.bias)\n",
    "\n",
    "    def build_output_layer(self):\n",
    "        return RGCNConv(self.h_dim, self.out_dim, self.num_rels, self.num_bases, activation=partial(F.softmax, dim=-1),\n",
    "                        dropout=self.dropout, is_output_layer=True, bias=self.bias)\n",
    "\n",
    "    def reset_parameters(self):\n",
    "        for layer in self.layers:\n",
    "            layer.reset_parameters()\n",
    "\n",
    "    def forward(self, x, adj_t):\n",
    "        out = x\n",
    "        for layer in self.layers:\n",
    "            out = layer(out, adj_t)\n",
    "            if not layer.is_output_layer:\n",
    "                out = F.dropout(out, self.dropout, self.training)\n",
    "        return out"
   ]
  },
  {
   "cell_type": "markdown",
   "metadata": {
    "id": "qiJrPM6SRjZb"
   },
   "source": [
    "### Training and Evaluation Functions\n",
    "\n",
    "The training step consists of calculating the loss for the labelled (training) nodes and propagating it backwards through the network. Lastly, the weights are adapted in `optimizer.step()`. The `test` function enables us to calculate the accuracy on the test as well as the training data."
   ]
  },
  {
   "cell_type": "code",
   "execution_count": null,
   "metadata": {
    "id": "RWb3JIQeRoE3"
   },
   "outputs": [],
   "source": [
    "def train(model, x, adj_t, optimizer, loss_fn, train_idx, train_y):\n",
    "    model.train()\n",
    "\n",
    "    # Zero grad the optimizer\n",
    "    optimizer.zero_grad()\n",
    "    # Feed the data into the model\n",
    "    out = model(x, adj_t)\n",
    "    # Feed the sliced output and label to loss_fn\n",
    "    labels = torch.LongTensor(train_y).to(out.device)\n",
    "    loss = loss_fn(out[train_idx], labels)\n",
    "\n",
    "    # Backpropagation, optimizer\n",
    "    loss.backward()\n",
    "    optimizer.step()\n",
    "    return loss.item()\n",
    "\n",
    "\n",
    "@torch.no_grad()\n",
    "def test(model, x, adj_t, train_idx, train_y, test_idx, test_y):\n",
    "    model.eval()\n",
    "\n",
    "    # Output of model on all data\n",
    "    out = model(x, adj_t)\n",
    "    # Get predicted class labels\n",
    "    pred = out.argmax(dim=-1).cpu()\n",
    "\n",
    "    # Evaluate prediction accuracy\n",
    "    train_acc = pred[train_idx].eq(train_y).to(torch.float).mean()\n",
    "    test_acc = pred[test_idx].eq(test_y).to(torch.float).mean()\n",
    "    return train_acc.item(), test_acc.item()"
   ]
  },
  {
   "cell_type": "markdown",
   "metadata": {
    "id": "QbGcX2dyO2vx"
   },
   "source": [
    "### Data preprocessing functions\n",
    "In order to use the data from `torch.geometric.datasets.Entities` with our R-GCN implementation, we have to convert the dataset and construct the adjacency matrices from the edge index and edge type arrays. We therefore compute a collection of adjacency matrices, with one adjacency matrix per relation type. "
   ]
  },
  {
   "cell_type": "code",
   "execution_count": null,
   "metadata": {
    "id": "G59p9-N8NDSk"
   },
   "outputs": [],
   "source": [
    "def get_adjacency_matrices(data):\n",
    "    \"\"\"\n",
    "    Converts torch_geometric.datasets.entities data to relation type specific \n",
    "    adjacency matrices\n",
    "    :param data: torch_geometric.datasets.entities data\n",
    "    :return:\n",
    "        A: list of relation type specific adjacency matrices\n",
    "    \"\"\"\n",
    "    num_rels = data.num_rels\n",
    "    num_nodes = data.num_nodes\n",
    "\n",
    "    A = []\n",
    "    source_nodes = data.edge_index[0].numpy()\n",
    "    target_nodes = data.edge_index[1].numpy()\n",
    "\n",
    "    # Get edges for given (relation) edge type and construct adjacency matrix\n",
    "    for i in range(num_rels):\n",
    "        indices = np.argwhere(np.asarray(data.edge_type) == i).squeeze(axis=1)\n",
    "        r_source_nodes = source_nodes[indices]\n",
    "        r_target_nodes = target_nodes[indices]\n",
    "        a = sp.csr_matrix(\n",
    "            (np.ones(len(indices)), (r_source_nodes, r_target_nodes)), \n",
    "            shape=(num_nodes, num_nodes))\n",
    "        A.append(a)\n",
    "\n",
    "    return A"
   ]
  },
  {
   "cell_type": "markdown",
   "metadata": {
    "id": "9AS_u3qNO9Ls"
   },
   "source": [
    "The following functions serve for normalizing the matrices individually and converting them to sparse tensors. The normalization corresponds to the normalization that is performed in a R-GCN layer in order to mitigate the impact of high node degress. In this case, we use the node degree only, as it is suggested in the paper by Schlichtkrull et al. (2018). \\\\\n",
    "We further use sparse tensors because they are memory-efficient. Sparse arrays such as our adjacency matrices, where ones indicate edges, contain a lot of elements equal to zero. Thus, we achieve a more efficient use of processor resources as well as memory if we only store and process the non-zero elements (Torch Contributors, 2019)."
   ]
  },
  {
   "cell_type": "code",
   "execution_count": null,
   "metadata": {
    "id": "8MqiLocPl708"
   },
   "outputs": [],
   "source": [
    "def normalize(adj_matrix):\n",
    "    \"\"\"\n",
    "    Normalizes the adjacency matrix\n",
    "    :param adj_matrix: Adjacency matrix\n",
    "    :return:\n",
    "        out: Normalized adjacency matrix\n",
    "    \"\"\"\n",
    "    node_degrees = np.array(adj_matrix.sum(axis=1)).flatten()\n",
    "    # Essentially 1. / node_degrees, while avoiding division by zero warning\n",
    "    norm_const = np.divide(np.ones_like(node_degrees), node_degrees, out=np.zeros_like(node_degrees),\n",
    "                           where=node_degrees != 0)\n",
    "    D_inv = sp.diags(norm_const)\n",
    "    out = D_inv.dot(adj_matrix).tocsr()\n",
    "    return out"
   ]
  },
  {
   "cell_type": "code",
   "execution_count": null,
   "metadata": {
    "id": "oloGQFaRl79f"
   },
   "outputs": [],
   "source": [
    "def to_sparse_tensor(sparse_array):\n",
    "    \"\"\"\n",
    "    Converts sparse array (normalized adjacency matrix) to sparse tensor\n",
    "    :param sparse_array: Sparse array (normalized adjacency matrix)\n",
    "    :return:\n",
    "        sparse_tensor: Converted sparse tensor\n",
    "    \"\"\"\n",
    "    if len(sp.find(sparse_array)[-1]) > 0:\n",
    "        # Get indices and values of nonzero elements in matrix\n",
    "        v = torch.FloatTensor(sp.find(sparse_array)[-1])\n",
    "        i = torch.LongTensor(sparse_array.nonzero())\n",
    "        shape = sparse_array.shape\n",
    "        sparse_tensor = torch.sparse_coo_tensor(i, v, torch.Size(shape))\n",
    "    else:\n",
    "        sparse_tensor = torch.sparse_coo_tensor(sparse_array.shape[0], sparse_array.shape[1])\n",
    "    return sparse_tensor"
   ]
  },
  {
   "cell_type": "markdown",
   "metadata": {
    "id": "eQOMGMlHF060"
   },
   "source": [
    "## Experiments\n",
    "In this section, we investigate the accuracy of the model that was implemented within the context of this seminar project. For this purpose, we relied on the same datasets that Schlichtkrull et al. (2018) used in their experiments. In particular, they used the datasets *AM*, *BGS*, *AIFB* and *MUTAG*. These datasets are part of a benchmark for evaluating machine learning approaches in the context of the semantic web (Ristoski, 2016). Relations in those datasets do not necessarily represent the triples of the knowledge graph only but may also provide information on the presence or absence of a feature. The node classification task consists in predicting properties for a specific group of entities for each dataset (Schlichtkrull, 2018). The table below shows the key figures of each dataset in detail. "
   ]
  },
  {
   "cell_type": "markdown",
   "metadata": {
    "id": "XGLkELTPhQhu"
   },
   "source": [
    "### Description of the Datasets\n",
    "The *AIFB* dataset describes the organizational structure of the AIFB, a research institute at the university *Karlsruher Institut für Technologie*. The dataset includes\n",
    "178 entities representing people that are assigned to a research group within the AIFB. A possible classification task consists in predicting the research group for each entity. In a pre-processing step, the smallest group was omitted as well as the *employs* relation due to it being the inverse of the *affiliate* relation (Ristoski, 2016). In addition to that, the dataset contains information on research papers, external people or projects (Bloehdorn, 2007).\n",
    "\n",
    "The *MUTAG* dataset comprises data on complex, potentially carcinogenic molecules. In this case, the property *isMutagenic* serves as a label (Ristoski, 2016). The dataset represents a set of  molecular graphs in RDF format, where relations encode atomic bonds or the presence of a certain feature (Schlichtkrull, 2018). It is generally used for graph classification (Papers with Code, n.d.), but in this case it has been prepared in a way such that the carcinogenicity is predicted for each compound in a node classification setting (DL-Learner, n.d.; \"MUTAG/readme.txt\", 2015).\n",
    "\n",
    "The *AM* dataset describes artifacts maintained by the Amsterdam Museum, where each artifact refers to metadata on its production, material and content. Each artifact may also be linked to other artifacts and is further labelled with an artifact category, which is used for classification in this case. Ristoski et al. (2016) drew and pre-processed a stratitified random sample of 1000 instances from the complete dataset before including it in the benchmark in its current form. The pre-processing consisted in omitting a relation due to its high correlation with the artifact category. \n",
    "\n",
    "The *BGS* dataset contains geological measurements on so-called named rock units that were collected by the British Geological Survey. Various properties are assigned to these named rock units that describe rock formations (see https://data.bgs.ac.uk/id/Lexicon/NamedRockUnit/MTON for an example of such a named rock unit). In this case, the so-called lithogenetic type, the \"mode of origin\" (British Geological Survey, 2021) of rock formations, is used to divide the rock units into different classes. The rock units belonging to the two largest lithogenesis classes, namely \"GLACI\" (glacial) and \"FLUV\" (fluviatile) (\"Lithogenesis types\", 2013; \"BGS/readme.txt\", 2015), form the *BGS* dataset as it was used by de Vries et al. (2013) and then adopted by Ristoski et al. (2016) in their proposed benchmark. Thus, the dataset encompasses 146 named\n",
    "rock units, for which the lithogenesis property can be predicted. In the RDF representation of this dataset, relations also either represent the presence of a certain feature or feature hierarchy (Schlichtkrull, 2018).\n",
    "\n",
    "The BGS as well as the MUTAG datasets are special in the sense that high-degree nodes encoding a certain feature act as a hub by linking labeled entities to each other (Schlichtkrull, 2018). These datasets are available in Resource Description Framework (RDF) format. In addition to that, all four datasets are also directly available via `torch.geometric.datasets.Entities`. \n",
    "\n",
    " \\\\\n",
    "\n",
    "\n",
    "| Dataset | AIFB | MUTAG | BGS | AM |\n",
    "| ------- | ---- | ----- | --- | ---|\n",
    "|Entities | 8,285| 23,644|333,845| 1,666,764|\n",
    "|Relations| 45 | 23 | 103 | 133 |\n",
    "|Edges | 29,043 | 74,227 | 916,199 | 5,988,321|\n",
    "|Labeled | 176 | 340 | 146 | 1,000 |\n",
    "|Classes | 4 | 2 | 2 | 11 |\n",
    "\n",
    "<center> <i>Labeled</i> denotes those entities that carry labels. Thus, they are to be classified during the training or testing stage, respectively. <br> Source of the table: (Schlichtkrull, 2018) </center>"
   ]
  },
  {
   "cell_type": "markdown",
   "metadata": {
    "id": "5VB7y8FIktN-"
   },
   "source": [
    "### Loading the Data\n",
    "In theory, our model should work with all four datasets. However, BGS and AM contain huge graphs, which require lots of memory. That is why we recommend to only use AIFB or MUTAG."
   ]
  },
  {
   "cell_type": "code",
   "execution_count": null,
   "metadata": {
    "id": "W1-jVEyPISax"
   },
   "outputs": [],
   "source": [
    "device = torch.device('cuda' if torch.cuda.is_available() else 'cpu')"
   ]
  },
  {
   "cell_type": "markdown",
   "metadata": {
    "id": "lP7edMgQ90td"
   },
   "source": [
    "The following function is used to load the data via `pytorch geometric`. For that, we make use of the previously defined `get_adjacency_matrices` function to obtain a set of relation type specific adjacency matrices, that are then normalized and converted to sparse tensors."
   ]
  },
  {
   "cell_type": "code",
   "execution_count": null,
   "metadata": {
    "id": "Get6gjDs-G0a"
   },
   "outputs": [],
   "source": [
    "def load_data(dataset_name):\n",
    "  # Load data via pytorch geometric\n",
    "  path = osp.join('.', 'data', 'Entities')\n",
    "  dataset = Entities(path, dataset_name)\n",
    "  data = dataset[0]\n",
    "\n",
    "  data.num_nodes = maybe_num_nodes(data.edge_index)\n",
    "  data.num_rels = dataset.num_relations\n",
    "\n",
    "  # Construct relation type specific adjacency matrices from data.edge_index and data.edge_type in utils\n",
    "  A = get_adjacency_matrices(data)\n",
    "\n",
    "  adj_t = []\n",
    "  # Normalize matrices individually and convert to sparse tensors\n",
    "  for a in A:\n",
    "      nor_a = normalize(a)\n",
    "      if len(nor_a.nonzero()[0]) > 0:\n",
    "          tensor_a = to_sparse_tensor(nor_a)\n",
    "          adj_t.append(tensor_a.to(device))\n",
    "\n",
    "  # Replace if features are available\n",
    "  x = None    \n",
    "  return dataset, data, adj_t, x"
   ]
  },
  {
   "cell_type": "markdown",
   "metadata": {
    "id": "At5mtJ2l-wWg"
   },
   "source": [
    "### Experiment Function\n",
    "For running the experiments, we first create a R-GCN with its parameters set to the given arguments. We further train and evaluate the model for the number of times that is given by `runs`. The optimizer and loss function are initialized each time anew, the parameters are reset in each run as well. We eventually report on the best test accuracy per run as well as the average accuracy with standard error throughout the runs."
   ]
  },
  {
   "cell_type": "code",
   "execution_count": null,
   "metadata": {
    "id": "kkneR-x49xoW"
   },
   "outputs": [],
   "source": [
    "def run_experiment(dataset_name, args, runs=10):\n",
    "  dataset, data, adj_t, x = load_data(dataset_name)\n",
    "  # Initialize RGCN model\n",
    "  model = RGCN(\n",
    "      num_nodes=data.num_nodes,\n",
    "      h_dim=args[\"h_dim\"],\n",
    "      out_dim=dataset.num_classes,\n",
    "      num_rels=dataset.num_relations,\n",
    "      num_bases=args[\"num_bases\"],\n",
    "      dropout=args[\"dropout\"]\n",
    "  ).to(device)\n",
    "\n",
    "  test_accs = []\n",
    "\n",
    "  for i in range(1, runs+1):\n",
    "    print('------------------------------------------------')\n",
    "    print(f'Model run {i}')\n",
    "    print('------------------------------------------------')\n",
    "    # Reset the parameters to initial random values\n",
    "    model.reset_parameters()\n",
    "\n",
    "    optimizer = torch.optim.Adam(model.parameters(), lr=args[\"lr\"], weight_decay=args[\"l2\"])\n",
    "    loss_fn = nn.CrossEntropyLoss()\n",
    "\n",
    "    best_test_acc = 0\n",
    "    # Train and evaluate model\n",
    "    for epoch in range(1, args[\"epochs\"] + 1):\n",
    "        loss = train(model, x, adj_t, optimizer, loss_fn, data.train_idx, data.train_y)\n",
    "        train_acc, test_acc = test(model, x, adj_t, data.train_idx, data.train_y, data.test_idx, data.test_y)\n",
    "        if test_acc > best_test_acc:\n",
    "          best_test_acc = test_acc\n",
    "        if epoch == 1 or (epoch % 10) == 0:\n",
    "          print(f'Epoch: {epoch:02d}, Loss: {loss:.4f}, Train: {train_acc:.4f} '\n",
    "                f'Test: {test_acc:.4f}')\n",
    "    test_accs.append(test_acc)  # alternatively use the best test acc\n",
    "    print(f'Best test accuracy: {best_test_acc:.4f}')\n",
    "  \n",
    "  avg_test_acc = np.mean(test_accs)\n",
    "  sem_test_acc = stats.sem(test_accs)\n",
    "\n",
    "  print('------------------------------------------------')\n",
    "  print(f'Average test accuracy over {runs} runs: {100 * avg_test_acc:.2f}+-{100 * sem_test_acc:.2f}')"
   ]
  },
  {
   "cell_type": "markdown",
   "metadata": {
    "id": "ASxlpmo1mLZS"
   },
   "source": [
    "### Training and Evaluation\n",
    "In our experiments, we train a 2-layer R-GCN with 16 hidden units, i.e., the hidden node representations have a dimension of 16. We run the experiments for 50 epochs with a learning rate of 0.01, while using the Adam optimizer (Kingma, 2014). Adam is an optimization algorithm that adapts the learning rates for each parameter individually. It has been proposed for use in the context of large-scale and high-dimensional machine learning problems. \n",
    "The normalization constant $c_{i,r}$ is set to $|N_{i}^{r}|$, i.e. the average of all incoming messages from a particular relation type. (See the previous function definitions: the normalization constant is realized by splitting the adjacency matrix up into relation-specific adjacency matrices and then normalizing them using the node degrees within each matrix.) We refrained from hyperparameter tuning and adopted the experimental settings that were used by Schlichtkrull et al. (2018)."
   ]
  },
  {
   "cell_type": "markdown",
   "metadata": {
    "id": "t7d-M2fqdO8o"
   },
   "source": [
    "### Evaluation on AIFB \n",
    "\n",
    "When evaluating our model on the AIFB dataset, we achieve a test accuracy of 95.28+-0.83 after 50 epochs of training and averaged over 10 runs with standard error. In comparison to that, Schlichtkrull et al. (2018) report on an accuracy of 95.83+-0.62."
   ]
  },
  {
   "cell_type": "code",
   "execution_count": null,
   "metadata": {
    "id": "l9bfQVmtSERp"
   },
   "outputs": [],
   "source": [
    "# Parameters from the RGCN paper\n",
    "args = {\n",
    "        'h_dim': 16,\n",
    "        'num_bases': -1,  # -1: no basis decomposition, use one weight matrix for each relation\n",
    "        'num_hidden_layers': 0,\n",
    "        'dropout': 0.,\n",
    "        'lr': 0.01,\n",
    "        'l2': 0.,\n",
    "        'bias': False,\n",
    "        'epochs': 50,\n",
    "    }"
   ]
  },
  {
   "cell_type": "code",
   "execution_count": null,
   "metadata": {
    "colab": {
     "base_uri": "https://localhost:8080/"
    },
    "id": "rmjSBoiY_iJk",
    "outputId": "6d98a1e7-bbe4-4d52-8bc1-d9971323ab0b"
   },
   "outputs": [
    {
     "name": "stdout",
     "output_type": "stream",
     "text": [
      "Downloading https://data.dgl.ai/dataset/aifb.tgz\n",
      "Extracting data/Entities/aifb.tgz\n",
      "Processing...\n",
      "Done!\n",
      "------------------------------------------------\n",
      "Model run 1\n",
      "------------------------------------------------\n",
      "Epoch: 01, Loss: 1.3862, Train: 0.6071 Test: 0.5556\n",
      "Epoch: 10, Loss: 0.9213, Train: 0.8357 Test: 0.8333\n",
      "Epoch: 20, Loss: 0.8552, Train: 0.8857 Test: 0.8889\n",
      "Epoch: 30, Loss: 0.8439, Train: 0.9000 Test: 0.8889\n",
      "Epoch: 40, Loss: 0.7986, Train: 0.9500 Test: 0.9167\n",
      "Epoch: 50, Loss: 0.7658, Train: 0.9786 Test: 0.9722\n",
      "Best test accuracy: 0.9722\n",
      "------------------------------------------------\n",
      "Model run 2\n",
      "------------------------------------------------\n",
      "Epoch: 01, Loss: 1.3865, Train: 0.4643 Test: 0.4444\n",
      "Epoch: 10, Loss: 0.9579, Train: 0.8143 Test: 0.7778\n",
      "Epoch: 20, Loss: 0.8166, Train: 0.9429 Test: 0.9722\n",
      "Epoch: 30, Loss: 0.7754, Train: 0.9786 Test: 0.9722\n",
      "Epoch: 40, Loss: 0.7646, Train: 0.9786 Test: 0.9444\n",
      "Epoch: 50, Loss: 0.7630, Train: 0.9786 Test: 0.9167\n",
      "Best test accuracy: 0.9722\n",
      "------------------------------------------------\n",
      "Model run 3\n",
      "------------------------------------------------\n",
      "Epoch: 01, Loss: 1.3863, Train: 0.5357 Test: 0.5556\n",
      "Epoch: 10, Loss: 0.9584, Train: 0.8071 Test: 0.7778\n",
      "Epoch: 20, Loss: 0.8714, Train: 0.8786 Test: 0.8333\n",
      "Epoch: 30, Loss: 0.8365, Train: 0.9071 Test: 0.8889\n",
      "Epoch: 40, Loss: 0.8008, Train: 0.9429 Test: 0.8889\n",
      "Epoch: 50, Loss: 0.7757, Train: 0.9714 Test: 0.9167\n",
      "Best test accuracy: 0.9167\n",
      "------------------------------------------------\n",
      "Model run 4\n",
      "------------------------------------------------\n",
      "Epoch: 01, Loss: 1.3857, Train: 0.5714 Test: 0.5833\n",
      "Epoch: 10, Loss: 0.9525, Train: 0.8214 Test: 0.7778\n",
      "Epoch: 20, Loss: 0.8692, Train: 0.8786 Test: 0.8611\n",
      "Epoch: 30, Loss: 0.8484, Train: 0.8929 Test: 0.8611\n",
      "Epoch: 40, Loss: 0.8421, Train: 0.8929 Test: 0.8611\n",
      "Epoch: 50, Loss: 0.8215, Train: 0.9214 Test: 0.8611\n",
      "Best test accuracy: 0.8889\n",
      "------------------------------------------------\n",
      "Model run 5\n",
      "------------------------------------------------\n",
      "Epoch: 01, Loss: 1.3862, Train: 0.5857 Test: 0.5556\n",
      "Epoch: 10, Loss: 0.9772, Train: 0.7571 Test: 0.7500\n",
      "Epoch: 20, Loss: 0.8193, Train: 0.9357 Test: 0.8611\n",
      "Epoch: 30, Loss: 0.8013, Train: 0.9429 Test: 0.9722\n",
      "Epoch: 40, Loss: 0.8007, Train: 0.9429 Test: 0.9722\n",
      "Epoch: 50, Loss: 0.7869, Train: 0.9643 Test: 0.9722\n",
      "Best test accuracy: 0.9722\n",
      "------------------------------------------------\n",
      "Model run 6\n",
      "------------------------------------------------\n",
      "Epoch: 01, Loss: 1.3860, Train: 0.5714 Test: 0.5278\n",
      "Epoch: 10, Loss: 0.9815, Train: 0.8071 Test: 0.8056\n",
      "Epoch: 20, Loss: 0.8373, Train: 0.9143 Test: 0.9167\n",
      "Epoch: 30, Loss: 0.7745, Train: 0.9786 Test: 0.9722\n",
      "Epoch: 40, Loss: 0.7597, Train: 0.9929 Test: 0.9444\n",
      "Epoch: 50, Loss: 0.7517, Train: 0.9929 Test: 0.9167\n",
      "Best test accuracy: 0.9722\n",
      "------------------------------------------------\n",
      "Model run 7\n",
      "------------------------------------------------\n",
      "Epoch: 01, Loss: 1.3862, Train: 0.6214 Test: 0.5833\n",
      "Epoch: 10, Loss: 0.9509, Train: 0.8429 Test: 0.7778\n",
      "Epoch: 20, Loss: 0.8134, Train: 0.9429 Test: 0.9444\n",
      "Epoch: 30, Loss: 0.7818, Train: 0.9714 Test: 0.9444\n",
      "Epoch: 40, Loss: 0.7697, Train: 0.9786 Test: 0.9444\n",
      "Epoch: 50, Loss: 0.7652, Train: 0.9786 Test: 0.9444\n",
      "Best test accuracy: 0.9722\n",
      "------------------------------------------------\n",
      "Model run 8\n",
      "------------------------------------------------\n",
      "Epoch: 01, Loss: 1.3861, Train: 0.5786 Test: 0.5556\n",
      "Epoch: 10, Loss: 0.9628, Train: 0.8000 Test: 0.7778\n",
      "Epoch: 20, Loss: 0.8622, Train: 0.9000 Test: 0.8611\n",
      "Epoch: 30, Loss: 0.8278, Train: 0.9143 Test: 0.8889\n",
      "Epoch: 40, Loss: 0.7717, Train: 0.9786 Test: 0.9722\n",
      "Epoch: 50, Loss: 0.7529, Train: 0.9929 Test: 0.9722\n",
      "Best test accuracy: 1.0000\n",
      "------------------------------------------------\n",
      "Model run 9\n",
      "------------------------------------------------\n",
      "Epoch: 01, Loss: 1.3867, Train: 0.5857 Test: 0.5833\n",
      "Epoch: 10, Loss: 0.9513, Train: 0.8500 Test: 0.8056\n",
      "Epoch: 20, Loss: 0.8531, Train: 0.9000 Test: 0.8333\n",
      "Epoch: 30, Loss: 0.7884, Train: 0.9643 Test: 0.9722\n",
      "Epoch: 40, Loss: 0.7718, Train: 0.9714 Test: 0.9722\n",
      "Epoch: 50, Loss: 0.7633, Train: 0.9786 Test: 0.9167\n",
      "Best test accuracy: 0.9722\n",
      "------------------------------------------------\n",
      "Model run 10\n",
      "------------------------------------------------\n",
      "Epoch: 01, Loss: 1.3863, Train: 0.6000 Test: 0.5556\n",
      "Epoch: 10, Loss: 0.9884, Train: 0.7643 Test: 0.6389\n",
      "Epoch: 20, Loss: 0.8378, Train: 0.9143 Test: 0.9167\n",
      "Epoch: 30, Loss: 0.7853, Train: 0.9643 Test: 0.9444\n",
      "Epoch: 40, Loss: 0.7595, Train: 0.9857 Test: 0.9167\n",
      "Epoch: 50, Loss: 0.7520, Train: 0.9929 Test: 0.9167\n",
      "Best test accuracy: 0.9444\n",
      "------------------------------------------------\n",
      "Average test accuracy over 10 runs: 93.06+-1.11\n"
     ]
    }
   ],
   "source": [
    "run_experiment(dataset_name=\"AIFB\", args=args, runs=10)"
   ]
  },
  {
   "cell_type": "markdown",
   "metadata": {
    "id": "wzxkK3WQ_fen"
   },
   "source": [
    "### Evaluation on MUTAG\n",
    "When evaluating our model on the MUTAG dataset, we achieve a test accuracy of 76.91+-1.16 after 50 epochs of training and averaged over 10 runs with standard error. In comparison to that, Schlichtkrull et al. (2018) report on an accuracy of 73.23+-0.48."
   ]
  },
  {
   "cell_type": "code",
   "execution_count": null,
   "metadata": {
    "id": "zJ2dCWKVloI6"
   },
   "outputs": [],
   "source": [
    "dataset_name = \"MUTAG\"  # choices=['AIFB', 'MUTAG', 'BGS', 'AM']"
   ]
  },
  {
   "cell_type": "code",
   "execution_count": null,
   "metadata": {
    "id": "rzPoh2x46Vnz"
   },
   "outputs": [],
   "source": [
    "# Parameters from the RGCN paper\n",
    "args = {\n",
    "        'h_dim': 16,\n",
    "        'num_bases': 30,\n",
    "        'num_hidden_layers': 0,\n",
    "        'dropout': 0.,\n",
    "        'lr': 0.01,\n",
    "        'l2': 0.0005,\n",
    "        'bias': False,\n",
    "        'epochs': 50,\n",
    "    }"
   ]
  },
  {
   "cell_type": "code",
   "execution_count": null,
   "metadata": {
    "colab": {
     "base_uri": "https://localhost:8080/"
    },
    "id": "UOeRNv3y84Vu",
    "outputId": "6c6aa562-6df5-46f2-88b4-4d18f1661d26"
   },
   "outputs": [
    {
     "name": "stdout",
     "output_type": "stream",
     "text": [
      "------------------------------------------------\n",
      "Model run 1\n",
      "------------------------------------------------\n",
      "Epoch: 01, Loss: 0.6931, Train: 0.6213 Test: 0.6912\n",
      "Epoch: 10, Loss: 0.3921, Train: 0.9706 Test: 0.7941\n",
      "Epoch: 20, Loss: 0.3145, Train: 1.0000 Test: 0.6912\n",
      "Epoch: 30, Loss: 0.3141, Train: 1.0000 Test: 0.7647\n",
      "Epoch: 40, Loss: 0.3148, Train: 0.9963 Test: 0.7647\n",
      "Epoch: 50, Loss: 0.3135, Train: 1.0000 Test: 0.7941\n",
      "Best test accuracy: 0.7941\n",
      "------------------------------------------------\n",
      "Model run 2\n",
      "------------------------------------------------\n",
      "Epoch: 01, Loss: 0.6928, Train: 0.6250 Test: 0.6912\n",
      "Epoch: 10, Loss: 0.3742, Train: 0.9706 Test: 0.7794\n",
      "Epoch: 20, Loss: 0.3161, Train: 1.0000 Test: 0.7794\n",
      "Epoch: 30, Loss: 0.3148, Train: 1.0000 Test: 0.8088\n",
      "Epoch: 40, Loss: 0.3146, Train: 1.0000 Test: 0.7794\n",
      "Epoch: 50, Loss: 0.3149, Train: 1.0000 Test: 0.8235\n",
      "Best test accuracy: 0.8235\n",
      "------------------------------------------------\n",
      "Model run 3\n",
      "------------------------------------------------\n",
      "Epoch: 01, Loss: 0.6928, Train: 0.6324 Test: 0.6765\n",
      "Epoch: 10, Loss: 0.4308, Train: 0.9191 Test: 0.7941\n",
      "Epoch: 20, Loss: 0.3248, Train: 0.9926 Test: 0.7353\n",
      "Epoch: 30, Loss: 0.3149, Train: 1.0000 Test: 0.7647\n",
      "Epoch: 40, Loss: 0.3145, Train: 1.0000 Test: 0.7794\n",
      "Epoch: 50, Loss: 0.3147, Train: 1.0000 Test: 0.7941\n",
      "Best test accuracy: 0.8235\n",
      "------------------------------------------------\n",
      "Model run 4\n",
      "------------------------------------------------\n",
      "Epoch: 01, Loss: 0.6934, Train: 0.6250 Test: 0.6765\n",
      "Epoch: 10, Loss: 0.3693, Train: 0.9669 Test: 0.8088\n",
      "Epoch: 20, Loss: 0.3189, Train: 1.0000 Test: 0.7647\n",
      "Epoch: 30, Loss: 0.3144, Train: 1.0000 Test: 0.7941\n",
      "Epoch: 40, Loss: 0.3635, Train: 0.9779 Test: 0.6618\n",
      "Epoch: 50, Loss: 0.3136, Train: 1.0000 Test: 0.7353\n",
      "Best test accuracy: 0.8235\n",
      "------------------------------------------------\n",
      "Model run 5\n",
      "------------------------------------------------\n",
      "Epoch: 01, Loss: 0.6931, Train: 0.6471 Test: 0.6912\n",
      "Epoch: 10, Loss: 0.4439, Train: 0.9338 Test: 0.8088\n",
      "Epoch: 20, Loss: 0.3169, Train: 1.0000 Test: 0.7206\n",
      "Epoch: 30, Loss: 0.3146, Train: 1.0000 Test: 0.7647\n",
      "Epoch: 40, Loss: 0.3145, Train: 1.0000 Test: 0.7500\n",
      "Epoch: 50, Loss: 0.3146, Train: 1.0000 Test: 0.7353\n",
      "Best test accuracy: 0.8088\n",
      "------------------------------------------------\n",
      "Model run 6\n",
      "------------------------------------------------\n",
      "Epoch: 01, Loss: 0.6920, Train: 0.6324 Test: 0.6765\n",
      "Epoch: 10, Loss: 0.5509, Train: 0.7574 Test: 0.7353\n",
      "Epoch: 20, Loss: 0.3436, Train: 0.9779 Test: 0.7794\n",
      "Epoch: 30, Loss: 0.3331, Train: 0.9816 Test: 0.7500\n",
      "Epoch: 40, Loss: 0.3326, Train: 0.9816 Test: 0.7500\n",
      "Epoch: 50, Loss: 0.3326, Train: 0.9816 Test: 0.7500\n",
      "Best test accuracy: 0.8235\n",
      "------------------------------------------------\n",
      "Model run 7\n",
      "------------------------------------------------\n",
      "Epoch: 01, Loss: 0.6926, Train: 0.6287 Test: 0.6765\n",
      "Epoch: 10, Loss: 0.3980, Train: 0.9485 Test: 0.7794\n",
      "Epoch: 20, Loss: 0.3337, Train: 0.9816 Test: 0.7941\n",
      "Epoch: 30, Loss: 0.3329, Train: 0.9816 Test: 0.8088\n",
      "Epoch: 40, Loss: 0.3329, Train: 0.9816 Test: 0.8235\n",
      "Epoch: 50, Loss: 0.3330, Train: 0.9816 Test: 0.8235\n",
      "Best test accuracy: 0.8235\n",
      "------------------------------------------------\n",
      "Model run 8\n",
      "------------------------------------------------\n",
      "Epoch: 01, Loss: 0.6946, Train: 0.6360 Test: 0.6912\n",
      "Epoch: 10, Loss: 0.3962, Train: 0.9559 Test: 0.7794\n",
      "Epoch: 20, Loss: 0.3160, Train: 1.0000 Test: 0.7500\n",
      "Epoch: 30, Loss: 0.3144, Train: 1.0000 Test: 0.7353\n",
      "Epoch: 40, Loss: 0.3143, Train: 1.0000 Test: 0.7500\n",
      "Epoch: 50, Loss: 0.3145, Train: 1.0000 Test: 0.7647\n",
      "Best test accuracy: 0.7794\n",
      "------------------------------------------------\n",
      "Model run 9\n",
      "------------------------------------------------\n",
      "Epoch: 01, Loss: 0.6931, Train: 0.6287 Test: 0.6765\n",
      "Epoch: 10, Loss: 0.3651, Train: 0.9669 Test: 0.8235\n",
      "Epoch: 20, Loss: 0.3228, Train: 0.9926 Test: 0.7941\n",
      "Epoch: 30, Loss: 0.3614, Train: 0.9228 Test: 0.4853\n",
      "Epoch: 40, Loss: 0.3135, Train: 1.0000 Test: 0.7353\n",
      "Epoch: 50, Loss: 0.3136, Train: 1.0000 Test: 0.7353\n",
      "Best test accuracy: 0.8382\n",
      "------------------------------------------------\n",
      "Model run 10\n",
      "------------------------------------------------\n",
      "Epoch: 01, Loss: 0.6936, Train: 0.6544 Test: 0.6618\n",
      "Epoch: 10, Loss: 0.5982, Train: 0.7353 Test: 0.7647\n",
      "Epoch: 20, Loss: 0.3546, Train: 0.9669 Test: 0.7647\n",
      "Epoch: 30, Loss: 0.3155, Train: 1.0000 Test: 0.7647\n",
      "Epoch: 40, Loss: 0.3146, Train: 1.0000 Test: 0.7500\n",
      "Epoch: 50, Loss: 0.3146, Train: 1.0000 Test: 0.7353\n",
      "Best test accuracy: 0.8382\n",
      "------------------------------------------------\n",
      "Average test accuracy over 10 runs: 76.91+-1.16\n"
     ]
    }
   ],
   "source": [
    "run_experiment(dataset_name=\"MUTAG\", args=args, runs=10)"
   ]
  },
  {
   "cell_type": "markdown",
   "metadata": {
    "id": "R8G5CJJpjo02"
   },
   "source": [
    "## More Background on (R-)GCNs"
   ]
  },
  {
   "cell_type": "markdown",
   "metadata": {
    "id": "jIKacxMEb6uQ"
   },
   "source": [
    "### Limitations of (R-)GCNs\n",
    "\n",
    "R-GCNs are limited with respect to several aspects (Hamilton, 2020): \n",
    "1. *Limited Support for edge features*: They do not support all kinds of edge features. To be specific, they only support discrete edge features, i.e., edge types.\n",
    "2. *Over-Smoothing*: Several iterations of the GNN message passing procedure may lead to node embeddings becoming very similar to each other, when the information from neighborhood aggregation dominates the update of the node representation. This poses a problem when building deep GNNs that aim at capturing longer-term dependencies.\n",
    "3. *Same normalization constants for all neighbors*: Currently, the same normalization constant is used for each neighbor during the update of a node presentation, so we cannot treat neighbors with varying significance differently.\n"
   ]
  },
  {
   "cell_type": "markdown",
   "metadata": {
    "id": "3ttJh0OtSPLt"
   },
   "source": [
    "### Extensions of (R-)GCNs\n",
    "Several extensions tackle the aforementioned deficiencies. For example, attention-based approaches like Graph Attention Networks (Veličković, 2017) replace normalization constants with learned attention weights, which addresses issue (2) from the previous section. Deep GCNs (Li, 2019) address issue (3) from the previous section by using some tricks to overcome the vanishing gradient problem and thus, enable the exploitation of long-term dependencies."
   ]
  },
  {
   "cell_type": "markdown",
   "metadata": {
    "id": "HLvJjq6WcxxQ"
   },
   "source": [
    "### Other Application Areas of (R-)GCNs\n",
    "GNNs are put to use in various application fields: for example in machine translation, where they are used together with dependency graphs to create embeddings enriched with syntactic information (Bastings, 2017). Recommender systems constitute another application area of GNNs, since user-to-item interaction graphs and social graphs can be leveraged. Item embeddings may be learned and used for item-item recommendation, in order to recommend themed collections (e.g. playlists, “feed” content) (Ying, 2018)."
   ]
  },
  {
   "cell_type": "markdown",
   "metadata": {
    "id": "QiKD30zxYM1D"
   },
   "source": [
    "## Summary\n",
    "In this seminar project, we presented the mechanics of Graph Convolutional Networks (GCNs) as well as their extension, Relational Graph Convolutional Networks (R-GCNs). Both build upon the same message passing mechanism: in each iteration (layer), every node aggregates information from its local neighborhood in parallel. The more iterations pass, the more information the nodes can gather from further reaches of the graph. The R-GCN introduces the relation-specific aggregation and normalization in order to deal with multi-relational data. We implemented a R-GCN and evaluated it on the datasets AIFB and MUTAG, that were also used in the original paper (Schlichtkrull, 2018). Similar results to those reported in the original paper were achieved."
   ]
  },
  {
   "cell_type": "markdown",
   "metadata": {
    "id": "S_LzcFCkhgYi"
   },
   "source": [
    "## Resources"
   ]
  },
  {
   "cell_type": "markdown",
   "metadata": {
    "id": "bEMSfJ9DYOQx"
   },
   "source": [
    "### Papers and books:\n",
    "\n",
    "* Bastings, J., Titov, I., Aziz, W., Marcheggiani, D., & Sima'an, K. (2017). Graph convolutional encoders for syntax-aware neural machine translation. *arXiv preprint* arXiv:1704.04675.\n",
    "\n",
    "* Bloehdorn, S., & Sure, Y. (2007). Kernel methods for mining instance data in ontologies. In *The Semantic Web* (pp. 58-71). Springer, Berlin, Heidelberg.\n",
    "\n",
    "* de Vries, G. K. (2013, September). A fast approximation of the Weisfeiler-Lehman graph kernel for RDF data. In *Joint European Conference on Machine Learning and Knowledge Discovery in Databases* (pp. 606-621). Springer, Berlin, Heidelberg.\n",
    "\n",
    "* Dwivedi, V. P., Joshi, C. K., Laurent, T., Bengio, Y., & Bresson, X. (2020). Benchmarking graph neural networks. *arXiv preprint* arXiv:2003.00982.\n",
    "\n",
    "* Hamilton, W. L. (2020). Graph representation learning. *Synthesis Lectures on Artifical Intelligence and Machine Learning*, 14(3), 1-159.\n",
    "\n",
    "* Kingma, D. P., & Ba, J. (2014). Adam: A method for stochastic optimization. *arXiv preprint* arXiv:1412.6980.\n",
    "\n",
    "* Kipf, T. N., & Welling, M. (2016). Semi-supervised classification with graph convolutional networks. *arXiv preprint* arXiv:1609.02907.\n",
    "\n",
    "* Kipf, T. N. (2020). Deep learning with graph-structured representations.\n",
    "\n",
    "* LeCun, Y. (1989). Generalization and network design strategies. Technical Report\n",
    "CRG-TR-89-4, University of Toronto.\n",
    "\n",
    "* Li, G., Muller, M., Thabet, A., & Ghanem, B. (2019). Deepgcns: Can gcns go as deep as cnns?. In *Proceedings of the IEEE/CVF International Conference on Computer Vision* (pp. 9267-9276).\n",
    "\n",
    "* Srivastava, N., Hinton, G., Krizhevsky, A., Sutskever, I., & Salakhutdinov, R. (2014). Dropout: a simple way to prevent neural networks from overfitting. *The journal of machine learning research*, 15(1), 1929-1958.\n",
    "\n",
    "* Ristoski, P., De Vries, G. K. D., & Paulheim, H. (2016, October). A collection of benchmark datasets for systematic evaluations of machine learning on the semantic web. In *International Semantic Web Conference* (pp. 186-194). Springer, Cham.\n",
    "\n",
    "* Rumelhart, D., Hinton, G., and Williams, R. (1986a). Learning representations by back-propagating errors. Nature, 323, 533–536.\n",
    "\n",
    "* Schlichtkrull, M., Kipf, T. N., Bloem, P., Van Den Berg, R., Titov, I., & Welling, M. (2018, June). Modeling relational data with graph convolutional networks. In *European semantic web conference* (pp. 593-607). Springer, Cham.\n",
    "\n",
    "* Veličković, P., Cucurull, G., Casanova, A., Romero, A., Lio, P., & Bengio, Y. (2017). Graph attention networks. *arXiv preprint* arXiv:1710.10903.\n",
    "\n",
    "* Ying, R., He, R., Chen, K., Eksombatchai, P., Hamilton, W. L., & Leskovec, J. (2018, July). Graph convolutional neural networks for web-scale recommender systems. In *Proceedings of the 24th ACM SIGKDD International Conference on Knowledge Discovery & Data Mining* (pp. 974-983).\n",
    "\n",
    "\n",
    "\n",
    "### Blog Posts:\n",
    "- Dellinger, J. (2019, 03. April). *Weight Initialization in Neural Networks: A Journey From the Basics to Kaiming*. URL https://towardsdatascience.com/weight-initialization-in-neural-networks-a-journey-from-the-basics-to-kaiming-954fb9b47c79\n",
    "- Kipf, T. (2016, 30. September). Graph Convolutional Networks. URL http://tkipf.github.io/graph-convolutional-networks/\n",
    "- Skovgaard Jepsen, T. (2018, 18. September). *How to do Deep Learning on Graphs with Graph Convolutional Networks: Part 1: A High-Level Introduction to Graph Convolutional Networks*. URL https://towardsdatascience.com/how-to-do-deep-learning-on-graphs-with-graph-convolutional-networks-7d2250723780\n",
    "- Skovgaard Jepsen, T. (2019, 20. January). *How to do Deep Learning on Graphs with Graph Convolutional Networks: Part 2: Semi-Supervised Learning with Spectral Graph Convolutions*. URL https://towardsdatascience.com/how-to-do-deep-learning-on-graphs-with-graph-convolutional-networks-62acf5b143d0\n",
    "\n",
    "### Documentation\n",
    "- Torch Contributors (2019). *Torch.Sparse*. URL https://pytorch.org/docs/stable/sparse.html\n",
    "\n",
    "### Jupyter Notebook Tutorials:\n",
    "- https://github.com/TobiasSkovgaardJepsen/posts/blob/master/HowToDoDeepLearningOnGraphsWithGraphConvolutionalNetworks/Part2_SemiSupervisedLearningWithSpectralGraphConvolutions/notebook.ipynb\n",
    "\n",
    "### Keras Implementation:\n",
    "- https://github.com/tkipf/relational-gcn\n",
    "\n",
    "### PyTorch Implementations\n",
    "- https://github.com/tkipf/pygcn \n",
    "- https://github.com/masakicktashiro/rgcn_pytorch_implementation\n",
    "- https://github.com/mjDelta/relation-gcn-pytorch\n",
    "- https://docs.dgl.ai/en/0.4.x/tutorials/models/1_gnn/4_rgcn.html\n",
    "- https://github.com/rusty1s/pytorch_geometric/blob/master/examples/rgcn.py\n",
    "\n",
    "\n",
    "### Datasets directly available via `torch.geometric.datasets.Entities`: AIFB, MUTAG\n",
    "- Overview: https://www.uni-mannheim.de/dws/research/resources/sw4ml-benchmark/\n",
    "- Download: http://data.dws.informatik.uni-mannheim.de/rmlod/LOD_ML_Datasets/data/datasets/RDF_Datasets/\n",
    "\n",
    "## Information on Datasets\n",
    "- British Geological Survey (n.d.). *BGS Lexicon of Named Rock Units*. URL https://www.bgs.ac.uk/technologies/the-bgs-lexicon-of-named-rock-units/ (last access: 23.05.2021)\n",
    "- British Geological Survey (2020). *The BGS Lexicon of Named Rock Units [Linked Open Data]*. Keyworth, Nottingham. Available from http://data.bgs.ac.uk/ref/Lexicon (last access: 23.05.2021)\n",
    "- British Geological Society (2021). *BGS Geology - 50k (DiGMapGB-50) Superficial version 8.* URL https://data.gov.uk/dataset/f2f96865-4ad5-4adc-b0f6-3e79e71f10c0/bgs-geology-50k-digmapgb-50-superficial-version-8 (last access: 23.05.2021)\n",
    "- Lithogenesis Types [Data File] (2013). URL http://data.dws.informatik.uni-mannheim.de/rmlod/LOD_ML_Datasets/data/datasets/RDF_Datasets/BGS/data_bgs/Lexicon_LithogeneticType.nt (last access: 23.05.2021)\n",
    "- BGS/readme.txt [Data File] (2015). URL http://data.dws.informatik.uni-mannheim.de/rmlod/LOD_ML_Datasets/data/datasets/RDF_Datasets/BGS/readme.txt\n",
    "- Papers with Code (n.d.). MUTAG. URL https://paperswithcode.com/dataset/mutag (last access: 23.05.2021)\n",
    "- DL-Learner (n.d.). Carcinogenesis Predictions using DL-Learner. URL http://dl-learner.org/community/carcinogenesis (last access: 23.05.2021)\n",
    "- MUTAG/readme.txt [Data File] (2015). URL http://data.dws.informatik.uni-mannheim.de/rmlod/LOD_ML_Datasets/data/datasets/RDF_Datasets/MUTAG/README.txt (last access: 23.05.2021)\n",
    "- MUTAG/carcinogenesis.owl [Data File] (2015). URL http://data.dws.informatik.uni-mannheim.de/rmlod/LOD_ML_Datasets/data/datasets/RDF_Datasets/MUTAG/carcinogenesis.owl (last access: 23.05.2021)\n",
    "- MUTAG/completeDataset.tsv [Data File] (2015). URL http://data.dws.informatik.uni-mannheim.de/rmlod/LOD_ML_Datasets/data/datasets/RDF_Datasets/MUTAG/completeDataset.tsv (last access: 23.05.2021)"
   ]
  },
  {
   "cell_type": "code",
   "execution_count": null,
   "metadata": {
    "id": "TKOQCo7SCp89"
   },
   "outputs": [],
   "source": []
  }
 ],
 "metadata": {
  "accelerator": "GPU",
  "colab": {
   "collapsed_sections": [],
   "name": "NDinDL_R-GCNs_latest+text.ipynb",
   "provenance": []
  },
  "kernelspec": {
   "display_name": "Python 3",
   "language": "python",
   "name": "python3"
  },
  "language_info": {
   "codemirror_mode": {
    "name": "ipython",
    "version": 3
   },
   "file_extension": ".py",
   "mimetype": "text/x-python",
   "name": "python",
   "nbconvert_exporter": "python",
   "pygments_lexer": "ipython3",
   "version": "3.7.10"
  }
 },
 "nbformat": 4,
 "nbformat_minor": 4
}
